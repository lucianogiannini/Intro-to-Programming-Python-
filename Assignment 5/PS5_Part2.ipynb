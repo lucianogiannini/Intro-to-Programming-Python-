{
 "cells": [
  {
   "cell_type": "code",
   "execution_count": 3,
   "metadata": {},
   "outputs": [
    {
     "name": "stdout",
     "output_type": "stream",
     "text": [
      "[['Kiera', [11, 21, 13, 14, 15, 60, 38], '508-111-1110', 11, 60, 24.571428571428573], ['Lorenzo', [20, 12, 33, 26, 37, 62, 70], '508-111-1111', 12, 70, 37.142857142857146], ['Mabel', [31, 27, 43, 7, 52, 68, 5], '508-111-1112', 5, 68, 33.285714285714285], ['Nikolai', [8, 7, 212, 28, 114, 30, 39], '508-111-1113', 7, 212, 62.57142857142857]]\n"
     ]
    }
   ],
   "source": [
    "phonebill = [[\"Kiera\", [11,21,13,14,15,60,38], \"508-111-1110\"], \n",
    "             [\"Lorenzo\", [20,12,33,26,37,62,70],\"508-111-1111\"], \n",
    "             [\"Mabel\", [31,27,43,7,52,68,5],\"508-111-1112\"],\n",
    "             [\"Nikolai\", [8,7,212,28,114,30,39],\"508-111-1113\"]]\n",
    "\n",
    "for i in phonebill:\n",
    "    lowestminused = min(i[1])\n",
    "    highestminused = max(i[1])\n",
    "    total = sum(i[1])\n",
    "    counter = len(i[1])\n",
    "    averageminused = total/counter\n",
    "    i.append(lowestminused)\n",
    "    i.append(highestminused)\n",
    "    i.append(averageminused)\n",
    "    \n",
    "print(phonebill)"
   ]
  },
  {
   "cell_type": "code",
   "execution_count": null,
   "metadata": {},
   "outputs": [],
   "source": []
  }
 ],
 "metadata": {
  "kernelspec": {
   "display_name": "Python 3",
   "language": "python",
   "name": "python3"
  },
  "language_info": {
   "codemirror_mode": {
    "name": "ipython",
    "version": 3
   },
   "file_extension": ".py",
   "mimetype": "text/x-python",
   "name": "python",
   "nbconvert_exporter": "python",
   "pygments_lexer": "ipython3",
   "version": "3.8.3"
  }
 },
 "nbformat": 4,
 "nbformat_minor": 4
}
