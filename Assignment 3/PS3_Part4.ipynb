{
 "cells": [
  {
   "cell_type": "code",
   "execution_count": 1,
   "metadata": {},
   "outputs": [
    {
     "name": "stdout",
     "output_type": "stream",
     "text": [
      "This program will find the frequency of letters in a string.\n",
      "The string you enter must have letters only, no spaces or other characters.\n",
      "Please enter the string: Thequickbrownfoxjumpedoverthelazydogs\n",
      "thequickbrownfoxjumpedoverthelazydogs\n",
      "a: 1\n",
      "b: 1\n",
      "c: 1\n",
      "d: 2\n",
      "e: 4\n",
      "f: 1\n",
      "g: 1\n",
      "h: 2\n",
      "i: 1\n",
      "j: 1\n",
      "k: 1\n",
      "l: 1\n",
      "m: 1\n",
      "n: 1\n",
      "o: 4\n",
      "p: 1\n",
      "q: 1\n",
      "r: 2\n",
      "s: 1\n",
      "t: 2\n",
      "u: 2\n",
      "v: 1\n",
      "w: 1\n",
      "x: 1\n",
      "y: 1\n",
      "z: 1\n"
     ]
    }
   ],
   "source": [
    "print(\"This program will find the frequency of letters in a string.\")\n",
    "print(\"The string you enter must have letters only, no spaces or other characters.\")\n",
    "s = input(\"Please enter the string: \")\n",
    "letters = [0]*26\n",
    "s = s.lower()\n",
    "print(s)\n",
    "for i in range(0,len(s)):\n",
    "    value = ord(s[i]) - 97\n",
    "    letters[value] += 1\n",
    "charval = 97    \n",
    "for i in letters:\n",
    "    print(chr(charval)+\":\",i)\n",
    "    charval += 1\n",
    "\n"
   ]
  },
  {
   "cell_type": "code",
   "execution_count": null,
   "metadata": {},
   "outputs": [],
   "source": []
  }
 ],
 "metadata": {
  "kernelspec": {
   "display_name": "Python 3",
   "language": "python",
   "name": "python3"
  },
  "language_info": {
   "codemirror_mode": {
    "name": "ipython",
    "version": 3
   },
   "file_extension": ".py",
   "mimetype": "text/x-python",
   "name": "python",
   "nbconvert_exporter": "python",
   "pygments_lexer": "ipython3",
   "version": "3.8.3"
  }
 },
 "nbformat": 4,
 "nbformat_minor": 4
}
