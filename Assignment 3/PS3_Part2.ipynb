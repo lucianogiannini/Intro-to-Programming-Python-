{
 "cells": [
  {
   "cell_type": "code",
   "execution_count": 2,
   "metadata": {},
   "outputs": [
    {
     "name": "stdout",
     "output_type": "stream",
     "text": [
      "2\n",
      "1\n",
      "4\n",
      "6\n",
      "7\n",
      "5\n",
      "3\n"
     ]
    }
   ],
   "source": [
    "from random import randint\n",
    "myList = [1, 2, 3, 4, 5, 6, 7]\n",
    "length_of_myList = len(myList)\n",
    "inc = 0\n",
    "printed_values = []\n",
    "while len(printed_values) != length_of_myList:\n",
    "    value = randint(0,len(myList)-1)\n",
    "    #print(i,value)\n",
    "    print(myList[value])\n",
    "    printed_values.append(myList[value])\n",
    "    myList.remove(myList[value])\n",
    "\n"
   ]
  },
  {
   "cell_type": "code",
   "execution_count": null,
   "metadata": {},
   "outputs": [],
   "source": []
  }
 ],
 "metadata": {
  "kernelspec": {
   "display_name": "Python 3",
   "language": "python",
   "name": "python3"
  },
  "language_info": {
   "codemirror_mode": {
    "name": "ipython",
    "version": 3
   },
   "file_extension": ".py",
   "mimetype": "text/x-python",
   "name": "python",
   "nbconvert_exporter": "python",
   "pygments_lexer": "ipython3",
   "version": "3.8.3"
  }
 },
 "nbformat": 4,
 "nbformat_minor": 4
}
