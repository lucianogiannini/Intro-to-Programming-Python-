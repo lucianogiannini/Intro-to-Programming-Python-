{
 "cells": [
  {
   "cell_type": "code",
   "execution_count": 2,
   "metadata": {},
   "outputs": [
    {
     "name": "stdout",
     "output_type": "stream",
     "text": [
      "The mean is: 80.2\n",
      "The variance is: 89.35999999999999\n",
      "The standard deviation is: 9.453041838477178\n"
     ]
    }
   ],
   "source": [
    "scores = [95, 66, 87, 90, 73, 82, 65, 77, 81, 86]\n",
    "#print(scores)\n",
    "total_number_of_scores = 0\n",
    "score_total = 0\n",
    "for i in scores: \n",
    "    #print(i)\n",
    "    total_number_of_scores += 1;\n",
    "    score_total += i\n",
    "mean = score_total/total_number_of_scores\n",
    "#print(total_number_of_scores)\n",
    "print(\"The mean is:\",mean)\n",
    "\n",
    "variance_scores = [0] *10\n",
    "#print(variance_scores)\n",
    "inc = 0\n",
    "for i in variance_scores:\n",
    "    variance_scores[inc] = scores[inc]-mean\n",
    "    inc = inc + 1\n",
    "#print(variance_scores) \n",
    "inc = 0\n",
    "variance_total = 0\n",
    "for i in variance_scores:\n",
    "    variance_total += variance_scores[inc]**2\n",
    "    inc = inc + 1\n",
    "#print(variance_total)\n",
    "variance = variance_total/total_number_of_scores\n",
    "print(\"The variance is:\",variance)\n",
    "standard_deviation = variance**.5\n",
    "print(\"The standard deviation is:\",standard_deviation)"
   ]
  },
  {
   "cell_type": "code",
   "execution_count": null,
   "metadata": {},
   "outputs": [],
   "source": []
  }
 ],
 "metadata": {
  "kernelspec": {
   "display_name": "Python 3",
   "language": "python",
   "name": "python3"
  },
  "language_info": {
   "codemirror_mode": {
    "name": "ipython",
    "version": 3
   },
   "file_extension": ".py",
   "mimetype": "text/x-python",
   "name": "python",
   "nbconvert_exporter": "python",
   "pygments_lexer": "ipython3",
   "version": "3.8.3"
  }
 },
 "nbformat": 4,
 "nbformat_minor": 4
}
