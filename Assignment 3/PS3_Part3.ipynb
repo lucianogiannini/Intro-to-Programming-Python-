{
 "cells": [
  {
   "cell_type": "code",
   "execution_count": 2,
   "metadata": {},
   "outputs": [
    {
     "name": "stdout",
     "output_type": "stream",
     "text": [
      "['Pack', 'Nack', 'Lack', 'Quack', 'Kack', 'Ouack', 'Jack', 'Mack']\n",
      "['Jack', 'Kack', 'Lack', 'Mack', 'Nack', 'Ouack', 'Pack', 'Quack']\n",
      "['Jack', 'Kack', 'Lack', 'Mack', 'Nack', 'Ouack', 'Pack', 'Quack', 'Zach']\n",
      "['Jack', 'Kack', 'Lack', 'Mack', 'Nack', 'Pack', 'Quack', 'Zach']\n",
      "['Jack', 'Kack', 'Tack', 'Lack', 'Mack', 'Nack', 'Pack', 'Quack', 'Zach']\n",
      "['Zach', 'Tack', 'Quack', 'Pack', 'Nack', 'Mack', 'Lack', 'Kack', 'Jack']\n",
      "['Zach', 'Tack', 'Ouack', 'Quack', 'Pack', 'Nack', 'Mack', 'Lack', 'Kack', 'Jack']\n",
      "['Zach', 'Tack', 'Ouack', 'Quack', 'Pack', 'Nack', 'Mack', 'Lack', 'Kack', 'Jack', 'Back']\n",
      "['Tack', 'Ouack', 'Quack', 'Pack', 'Nack', 'Mack', 'Lack', 'Kack', 'Jack', 'Back']\n",
      "['Tack', 'Ouack', 'Quack', 'Pack', 'Nack', 'Mack', 'Lack', 'Kack', 'Jack']\n",
      "['Ouack', 'Quack', 'Pack', 'Nack', 'Mack', 'Lack', 'Kack', 'Jack']\n",
      "['Ouack', 'Quack', 'Pack', 'Nack', 'Mack', 'Lack', 'Kack', 'Jack', 'Back']\n",
      "['Ouack', 'Quack', 'Pack', 'Nack', 'Mack', 'Lack', 'Kack', 'Jack']\n",
      "8\n",
      "['Ouack', 'Quack', 'Pack', 'Nack', 'Mack', 'Lack', 'Kack', 'Jack']\n",
      "['Jack', 'Kack', 'Lack', 'Mack', 'Nack', 'Ouack', 'Pack', 'Quack']\n"
     ]
    }
   ],
   "source": [
    "ducks = [\"Pack\", \"Nack\", \"Lack\", \"Quack\", \"Kack\", \"Ouack\", \"Jack\", \"Mack\"]\n",
    "print(ducks)\n",
    "ducks = sorted(ducks)\n",
    "print(ducks)\n",
    "ducks.append(\"Zach\")\n",
    "print(ducks)\n",
    "corner = ducks.pop(5)\n",
    "print(ducks)\n",
    "ducks.insert(2,\"Tack\")\n",
    "print(ducks)\n",
    "ducks = sorted(ducks)\n",
    "ducks.reverse()\n",
    "print(ducks)\n",
    "ducks.insert(2,corner)\n",
    "print(ducks)\n",
    "ducks.append(\"Back\")\n",
    "print(ducks)\n",
    "leaver = ducks.remove(\"Zach\")\n",
    "print(ducks)\n",
    "timeOut = ducks.pop()\n",
    "print(ducks)\n",
    "leaver2 = ducks.remove(\"Tack\")\n",
    "print(ducks)\n",
    "ducks.append(timeOut)\n",
    "print(ducks)\n",
    "leaver3 = ducks.remove(\"Back\")\n",
    "print(ducks)\n",
    "print(len(ducks))\n",
    "print(ducks)\n",
    "ducks = sorted(ducks)\n",
    "print(ducks)"
   ]
  },
  {
   "cell_type": "code",
   "execution_count": null,
   "metadata": {},
   "outputs": [],
   "source": []
  }
 ],
 "metadata": {
  "kernelspec": {
   "display_name": "Python 3",
   "language": "python",
   "name": "python3"
  },
  "language_info": {
   "codemirror_mode": {
    "name": "ipython",
    "version": 3
   },
   "file_extension": ".py",
   "mimetype": "text/x-python",
   "name": "python",
   "nbconvert_exporter": "python",
   "pygments_lexer": "ipython3",
   "version": "3.8.3"
  }
 },
 "nbformat": 4,
 "nbformat_minor": 4
}
