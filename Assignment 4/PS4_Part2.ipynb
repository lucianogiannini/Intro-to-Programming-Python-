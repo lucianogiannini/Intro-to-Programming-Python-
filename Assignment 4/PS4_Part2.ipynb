{
 "cells": [
  {
   "cell_type": "code",
   "execution_count": 1,
   "metadata": {},
   "outputs": [
    {
     "name": "stdout",
     "output_type": "stream",
     "text": [
      "Please enter the number of recorded heartbeats:8\n",
      "Recorded Heartbeats\n",
      "[112, 76, 81, 115, 67, 107, 62, 48]\n",
      "Largest interval: 48\n",
      "Average interval: 27\n"
     ]
    }
   ],
   "source": [
    "import random\n",
    "numberofheartbeats = int(input(\"Please enter the number of recorded heartbeats:\"))\n",
    "print(\"Recorded Heartbeats\")\n",
    "heartbeat = [0]*numberofheartbeats\n",
    "for i in range(0,numberofheartbeats):\n",
    "    heartbeat[i] = int(random.uniform(40,150))\n",
    "print(heartbeat)\n",
    "maxinterval = 0\n",
    "interval = 0\n",
    "total = 0\n",
    "for i in range(0,numberofheartbeats-1):\n",
    "    interval = abs(heartbeat[i] - heartbeat[i+1])\n",
    "    total = total + interval\n",
    "    if(interval > maxinterval):\n",
    "        maxinterval = interval\n",
    "print(\"Largest interval:\",maxinterval)\n",
    "average = round(total/numberofheartbeats-1)\n",
    "print(\"Average interval:\",average)"
   ]
  },
  {
   "cell_type": "code",
   "execution_count": null,
   "metadata": {},
   "outputs": [],
   "source": []
  },
  {
   "cell_type": "code",
   "execution_count": null,
   "metadata": {},
   "outputs": [],
   "source": []
  }
 ],
 "metadata": {
  "kernelspec": {
   "display_name": "Python 3",
   "language": "python",
   "name": "python3"
  },
  "language_info": {
   "codemirror_mode": {
    "name": "ipython",
    "version": 3
   },
   "file_extension": ".py",
   "mimetype": "text/x-python",
   "name": "python",
   "nbconvert_exporter": "python",
   "pygments_lexer": "ipython3",
   "version": "3.8.3"
  }
 },
 "nbformat": 4,
 "nbformat_minor": 4
}
