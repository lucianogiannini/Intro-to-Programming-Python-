{
 "cells": [
  {
   "cell_type": "code",
   "execution_count": 1,
   "metadata": {},
   "outputs": [
    {
     "name": "stdout",
     "output_type": "stream",
     "text": [
      "Please enter the average number of customers expeected per hour: 10\n",
      "Please enter the number of hours: 2\n",
      "Potential Donation\n",
      "0.27\n",
      "Potential Donation\n",
      "0.18\n",
      "Potential Donation\n",
      "0.83\n",
      "Potential Donation\n",
      "0.63\n",
      "*****Donation made: 0.63\n",
      "Potential Donation\n",
      "0.87\n",
      "Potential Donation\n",
      "0.1\n",
      "Potential Donation\n",
      "0.67\n",
      "Potential Donation\n",
      "0.81\n",
      "*****Donation made: 0.1\n",
      "Potential Donation\n",
      "0.48\n",
      "Potential Donation\n",
      "0.27\n",
      "Potential Donation\n",
      "0.45\n",
      "Potential Donation\n",
      "0.56\n",
      "*****Donation made: 0.27\n",
      "Potential Donation\n",
      "0.15\n",
      "Potential Donation\n",
      "0.7\n",
      "Potential Donation\n",
      "0.83\n",
      "Potential Donation\n",
      "0.74\n",
      "*****Donation made: 0.83\n",
      "Potential Donation\n",
      "0.16\n",
      "Potential Donation\n",
      "0.5\n",
      "Potential Donation\n",
      "0.29\n",
      "Potential Donation\n",
      "0.03\n",
      "*****Donation made: 0.29\n",
      "Total Donations:\n",
      "$2.12\n"
     ]
    }
   ],
   "source": [
    "import random\n",
    "\n",
    "numcustomersperhour = int(input(\"Please enter the average number of customers expeected per hour: \"))\n",
    "numhours = int(input(\"Please enter the number of hours: \"))\n",
    "customers = numcustomersperhour*numhours\n",
    "donations = [0.0]*4\n",
    "counter = 0;\n",
    "total = 0.0;\n",
    "for i in range(0,customers):\n",
    "    if(counter != 3):\n",
    "        print(\"Potential Donation\")\n",
    "        donations[counter] = float(format(random.uniform(0.01,0.99),\"1.2f\"))\n",
    "        print(donations[counter])\n",
    "        counter += 1\n",
    "    \n",
    "    else:\n",
    "        print(\"Potential Donation\")\n",
    "        donations[counter] = format(random.random(),\"1.2f\")\n",
    "        print(donations[counter])\n",
    "        counter = 0;\n",
    "        index = random.randrange(0,len(donations))\n",
    "        print(\"*****Donation made:\",donations[index])\n",
    "        total = total + float(donations[index])\n",
    "        donations = [0.0]*4\n",
    "print(\"Total Donations:\")\n",
    "print('${:,.2f}'.format(total))"
   ]
  },
  {
   "cell_type": "code",
   "execution_count": null,
   "metadata": {},
   "outputs": [],
   "source": []
  },
  {
   "cell_type": "code",
   "execution_count": null,
   "metadata": {},
   "outputs": [],
   "source": []
  }
 ],
 "metadata": {
  "kernelspec": {
   "display_name": "Python 3",
   "language": "python",
   "name": "python3"
  },
  "language_info": {
   "codemirror_mode": {
    "name": "ipython",
    "version": 3
   },
   "file_extension": ".py",
   "mimetype": "text/x-python",
   "name": "python",
   "nbconvert_exporter": "python",
   "pygments_lexer": "ipython3",
   "version": "3.8.3"
  }
 },
 "nbformat": 4,
 "nbformat_minor": 4
}
