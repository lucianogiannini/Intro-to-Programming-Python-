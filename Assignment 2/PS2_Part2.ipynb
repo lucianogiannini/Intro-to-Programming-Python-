{
 "cells": [
  {
   "cell_type": "code",
   "execution_count": 4,
   "metadata": {},
   "outputs": [
    {
     "name": "stdout",
     "output_type": "stream",
     "text": [
      "Please enter the number of cookies you want to bake: 48\n",
      "You will need:\n",
      "1.500  cups of sugar\n",
      "1.000  cups of butter\n",
      "2.750  cups of flour\n"
     ]
    }
   ],
   "source": [
    "number_of_cookies = int(input(\"Please enter the number of cookies you want to bake: \"))\n",
    "cup_of_sugar_one_cookie = 1.5/48\n",
    "cup_of_butter_one_cookie = 1.0/48\n",
    "cup_of_flour_one_cookie = 2.75/48\n",
    "\n",
    "#print(cup_of_sugar_one_cookie,cup_of_butter_one_cookie,cup_of_flour_one_cookie)\n",
    "\n",
    "cups_of_sugar = number_of_cookies*cup_of_sugar_one_cookie\n",
    "cups_of_butter = number_of_cookies*cup_of_butter_one_cookie\n",
    "cups_of_flour = number_of_cookies*cup_of_flour_one_cookie\n",
    "\n",
    "\n",
    "print(\"You will need:\")\n",
    "print(format(cups_of_sugar, \"<2.3f\"),\" cups of sugar\")\n",
    "print(format(cups_of_butter, \"<2.3f\"),\" cups of butter\")\n",
    "print(format(cups_of_flour, \"<2.3f\"),\" cups of flour\")"
   ]
  },
  {
   "cell_type": "code",
   "execution_count": null,
   "metadata": {},
   "outputs": [],
   "source": []
  }
 ],
 "metadata": {
  "kernelspec": {
   "display_name": "Python 3",
   "language": "python",
   "name": "python3"
  },
  "language_info": {
   "codemirror_mode": {
    "name": "ipython",
    "version": 3
   },
   "file_extension": ".py",
   "mimetype": "text/x-python",
   "name": "python",
   "nbconvert_exporter": "python",
   "pygments_lexer": "ipython3",
   "version": "3.8.3"
  }
 },
 "nbformat": 4,
 "nbformat_minor": 4
}
