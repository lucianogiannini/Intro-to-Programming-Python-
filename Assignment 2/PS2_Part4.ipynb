{
 "cells": [
  {
   "cell_type": "code",
   "execution_count": 1,
   "metadata": {},
   "outputs": [
    {
     "name": "stdout",
     "output_type": "stream",
     "text": [
      "Please enter the total population100000\n",
      "Number of people infected in the first Month: 50000\n",
      "Number of people infected in the second Month: 20000\n",
      "Number of people infected in the third Month: 9000\n",
      "Number of people infected in the fourth Month: 4200\n",
      "Number of people infected in the fifth Month: 1680\n",
      "Total number of people infected: 84880\n",
      "Total number of people not infected: 15120\n"
     ]
    }
   ],
   "source": [
    "population = int(input(\"Please enter the total population\"))\n",
    "pop_uninfected = population\n",
    "first_month = pop_uninfected * .5\n",
    "pop_uninfected = pop_uninfected - first_month\n",
    "second_month = pop_uninfected * .4\n",
    "pop_uninfected = pop_uninfected - second_month\n",
    "third_month = pop_uninfected * .3\n",
    "pop_uninfected = pop_uninfected - third_month\n",
    "fourth_month = pop_uninfected * .2\n",
    "pop_uninfected = pop_uninfected - fourth_month\n",
    "fifth_month = pop_uninfected * .1\n",
    "pop_uninfected = pop_uninfected - fifth_month\n",
    "print(\"Number of people infected in the first Month:\", int(first_month))\n",
    "print(\"Number of people infected in the second Month:\", int(second_month))\n",
    "print(\"Number of people infected in the third Month:\", int(third_month))\n",
    "print(\"Number of people infected in the fourth Month:\", int(fourth_month))\n",
    "print(\"Number of people infected in the fifth Month:\", int(fifth_month))\n",
    "\n",
    "popinfected = first_month + second_month + third_month + fourth_month + fifth_month\n",
    "print(\"Total number of people infected:\", int(popinfected))\n",
    "\n",
    "print(\"Total number of people not infected:\", int(pop_uninfected))\n",
    "\n"
   ]
  },
  {
   "cell_type": "code",
   "execution_count": null,
   "metadata": {},
   "outputs": [],
   "source": []
  }
 ],
 "metadata": {
  "kernelspec": {
   "display_name": "Python 3",
   "language": "python",
   "name": "python3"
  },
  "language_info": {
   "codemirror_mode": {
    "name": "ipython",
    "version": 3
   },
   "file_extension": ".py",
   "mimetype": "text/x-python",
   "name": "python",
   "nbconvert_exporter": "python",
   "pygments_lexer": "ipython3",
   "version": "3.8.3"
  }
 },
 "nbformat": 4,
 "nbformat_minor": 4
}
