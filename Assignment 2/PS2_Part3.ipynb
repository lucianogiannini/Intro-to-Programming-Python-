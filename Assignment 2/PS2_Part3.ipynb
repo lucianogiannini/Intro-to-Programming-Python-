{
 "cells": [
  {
   "cell_type": "code",
   "execution_count": 2,
   "metadata": {},
   "outputs": [
    {
     "name": "stdout",
     "output_type": "stream",
     "text": [
      "Please enter the beginning odometer reading: 10000\n",
      "Please enter the ending odometer reading: 10500\n",
      "Please enter the number of gallons to fill the tank: 10\n",
      "Please enter the cost per gallon of fuel: 3.00\n",
      "Please enter the number of miles driven per year: 15000\n",
      "Average Miles Per Gallon: 50.00\n",
      "Fuel Cost Per Mile: $0.06\n",
      "Annual Cost of Fuel: $900.00\n"
     ]
    }
   ],
   "source": [
    "beginningOdometerReading = int(input(\"Please enter the beginning odometer reading: \"))\n",
    "endingOdometerReading = int(input(\"Please enter the ending odometer reading: \"))\n",
    "gallonsToFillTank = float(input(\"Please enter the number of gallons to fill the tank: \"))\n",
    "costPerGallonOfGas = float(input(\"Please enter the cost per gallon of fuel: \"))\n",
    "numberMilesDrivenPerYear = int(input(\"Please enter the number of miles driven per year: \"))\n",
    "\n",
    "totalMilesDriven = endingOdometerReading - beginningOdometerReading\n",
    "averageMilesPerGallon = totalMilesDriven / gallonsToFillTank\n",
    "\n",
    "costOfGas = gallonsToFillTank * costPerGallonOfGas\n",
    "fuelCostPerMile = costOfGas/totalMilesDriven\n",
    "\n",
    "annualCostOfFuel = (numberMilesDrivenPerYear/averageMilesPerGallon) * costPerGallonOfGas\n",
    "\n",
    "print(\"Average Miles Per Gallon:\",format(averageMilesPerGallon, \"<2.2f\"))\n",
    "print(\"Fuel Cost Per Mile:\", '${:,.2f}'.format(fuelCostPerMile))\n",
    "print(\"Annual Cost of Fuel:\", '${:,.2f}'.format(annualCostOfFuel))\n",
    "\n"
   ]
  },
  {
   "cell_type": "markdown",
   "metadata": {},
   "source": []
  }
 ],
 "metadata": {
  "kernelspec": {
   "display_name": "Python 3",
   "language": "python",
   "name": "python3"
  },
  "language_info": {
   "codemirror_mode": {
    "name": "ipython",
    "version": 3
   },
   "file_extension": ".py",
   "mimetype": "text/x-python",
   "name": "python",
   "nbconvert_exporter": "python",
   "pygments_lexer": "ipython3",
   "version": "3.8.3"
  }
 },
 "nbformat": 4,
 "nbformat_minor": 4
}
