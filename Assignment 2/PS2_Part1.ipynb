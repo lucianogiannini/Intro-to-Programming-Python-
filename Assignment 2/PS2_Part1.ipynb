{
 "cells": [
  {
   "cell_type": "code",
   "execution_count": 1,
   "metadata": {},
   "outputs": [
    {
     "name": "stdout",
     "output_type": "stream",
     "text": [
      "Please enter the number of completed years: 7\n",
      "Please enter the number of completed months:6\n",
      "43.0\n",
      "3.0\n",
      "Your dog is: 46.0 years old\n"
     ]
    }
   ],
   "source": [
    "dog_years = int(input(\"Please enter the number of completed years: \"))\n",
    "dog_months = int(input(\"Please enter the number of completed months:\"))\n",
    "if dog_years > 1 :\n",
    "    human_years = (dog_years-1) * 6.0 + 7\n",
    "    #print(human_years)\n",
    "    human_months = ((dog_months/12) * 6)\n",
    "    #print(human_months)\n",
    "    age = human_years + human_months\n",
    "    print(\"Your dog is:\", age, \"years old\")\n",
    "else :\n",
    "    print((dog_months/12) * 7)\n",
    "    "
   ]
  },
  {
   "cell_type": "code",
   "execution_count": null,
   "metadata": {},
   "outputs": [],
   "source": []
  }
 ],
 "metadata": {
  "kernelspec": {
   "display_name": "Python 3",
   "language": "python",
   "name": "python3"
  },
  "language_info": {
   "codemirror_mode": {
    "name": "ipython",
    "version": 3
   },
   "file_extension": ".py",
   "mimetype": "text/x-python",
   "name": "python",
   "nbconvert_exporter": "python",
   "pygments_lexer": "ipython3",
   "version": "3.8.3"
  }
 },
 "nbformat": 4,
 "nbformat_minor": 4
}
